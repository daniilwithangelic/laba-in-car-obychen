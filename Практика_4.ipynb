{
  "nbformat": 4,
  "nbformat_minor": 0,
  "metadata": {
    "colab": {
      "provenance": [],
      "include_colab_link": true
    },
    "kernelspec": {
      "name": "python3",
      "display_name": "Python 3"
    },
    "language_info": {
      "name": "python"
    }
  },
  "cells": [
    {
      "cell_type": "markdown",
      "metadata": {
        "id": "view-in-github",
        "colab_type": "text"
      },
      "source": [
        "<a href=\"https://colab.research.google.com/github/daniilwithangelic/laba-in-car-obychen/blob/main/%D0%9F%D1%80%D0%B0%D0%BA%D1%82%D0%B8%D0%BA%D0%B0_4.ipynb\" target=\"_parent\"><img src=\"https://colab.research.google.com/assets/colab-badge.svg\" alt=\"Open In Colab\"/></a>"
      ]
    },
    {
      "cell_type": "markdown",
      "source": [
        "# МЛ Практика 4: Задача классификации"
      ],
      "metadata": {
        "id": "5E0SFbl2Hwyf"
      }
    },
    {
      "cell_type": "markdown",
      "source": [
        "## **Цель занятия:**\n",
        "Изучить задачу классификации, познакомиться с метриками качества, реализовать классификатор с использованием разных моделей.\n",
        "\n",
        "## **Задание состоит из следующих частей:**\n",
        "1. Отбор признаков\n",
        "2. Обучение классификатора\n",
        "3. Обработка \"переобучения\" и дисбаланс классов и как с этим жить\n",
        "4. Метирки качества и что это все означает\n",
        "5. Задача мультиклассовой классификации\n",
        "6. Дерево принятия решений"
      ],
      "metadata": {
        "id": "wgCW6hnYH3hD"
      }
    },
    {
      "cell_type": "markdown",
      "source": [
        "# ⏰ Домашнее задание\n",
        "\n",
        "- 1. Выбрать пременную для задачи бинарной классификации (назовем это x_binary, y_binary) и выбрать пременные для задачи мультиклассовой классификации (назовем это x_multi, y_multi)\n",
        "\n",
        "p.s. если использовали произвольную пременную для binary, multiclassification - не зывбаем выбрасывать из X изначальную переменную\n",
        "\n",
        "- 2. Решить задачу классификации с использованием кросс валидации, оценить метрики качства: accuracy, precision, recall (включая classification report).\n",
        "  - 2.1. Используя опыт прошлых работ, попробуйте использовать лучшие признаки для решения задачи\n",
        "\n",
        "- 3. Для обоих задач побороться с дисбалансом классов следующими техниками:\n",
        "  - oversampling (например, SMOTE)\n",
        "  - или undersampling.\n",
        "\n",
        "Для oversampling и undersampling используйте (https://imbalanced-learn.org/)\n",
        "Опишите полученный результат\n",
        "\n",
        "Самый простой пример (желательно не использовать рандом)\n",
        "```\n",
        "from imblearn.over_sampling import RandomOverSampler\n",
        "from imblearn.under_sampling import RandomUnderSampler\n",
        "```\n",
        "\n",
        "- 4. Обучить дерево принятия решений с использованием кросс-валидации (Stratify K-fold и/или StratifyRandomShuffle)  для ```oversampling``` и ```undersampling``` (в задачи мультиклассовой классификации), оценить метрики и описать результат.\n",
        "\n"
      ],
      "metadata": {
        "id": "z8Tg19e2ztJh"
      }
    },
    {
      "cell_type": "markdown",
      "source": [
        "## 1: Загрузка библиотек и предобратка данных"
      ],
      "metadata": {
        "id": "8a9BwaArJAzh"
      }
    },
    {
      "cell_type": "code",
      "execution_count": 4,
      "metadata": {
        "colab": {
          "base_uri": "https://localhost:8080/"
        },
        "id": "WqGv3v47HuQk",
        "outputId": "89730a11-f449-4aca-e9cb-8ddf12fdcb53"
      },
      "outputs": [
        {
          "output_type": "stream",
          "name": "stdout",
          "text": [
            "Requirement already satisfied: pandas in /usr/local/lib/python3.10/dist-packages (2.2.2)\n",
            "Requirement already satisfied: scikit-learn in /usr/local/lib/python3.10/dist-packages (1.5.2)\n",
            "Requirement already satisfied: seaborn in /usr/local/lib/python3.10/dist-packages (0.13.2)\n",
            "Requirement already satisfied: scipy in /usr/local/lib/python3.10/dist-packages (1.13.1)\n",
            "Requirement already satisfied: numpy>=1.22.4 in /usr/local/lib/python3.10/dist-packages (from pandas) (1.26.4)\n",
            "Requirement already satisfied: python-dateutil>=2.8.2 in /usr/local/lib/python3.10/dist-packages (from pandas) (2.8.2)\n",
            "Requirement already satisfied: pytz>=2020.1 in /usr/local/lib/python3.10/dist-packages (from pandas) (2024.2)\n",
            "Requirement already satisfied: tzdata>=2022.7 in /usr/local/lib/python3.10/dist-packages (from pandas) (2024.2)\n",
            "Requirement already satisfied: joblib>=1.2.0 in /usr/local/lib/python3.10/dist-packages (from scikit-learn) (1.4.2)\n",
            "Requirement already satisfied: threadpoolctl>=3.1.0 in /usr/local/lib/python3.10/dist-packages (from scikit-learn) (3.5.0)\n",
            "Requirement already satisfied: matplotlib!=3.6.1,>=3.4 in /usr/local/lib/python3.10/dist-packages (from seaborn) (3.8.0)\n",
            "Requirement already satisfied: contourpy>=1.0.1 in /usr/local/lib/python3.10/dist-packages (from matplotlib!=3.6.1,>=3.4->seaborn) (1.3.1)\n",
            "Requirement already satisfied: cycler>=0.10 in /usr/local/lib/python3.10/dist-packages (from matplotlib!=3.6.1,>=3.4->seaborn) (0.12.1)\n",
            "Requirement already satisfied: fonttools>=4.22.0 in /usr/local/lib/python3.10/dist-packages (from matplotlib!=3.6.1,>=3.4->seaborn) (4.55.0)\n",
            "Requirement already satisfied: kiwisolver>=1.0.1 in /usr/local/lib/python3.10/dist-packages (from matplotlib!=3.6.1,>=3.4->seaborn) (1.4.7)\n",
            "Requirement already satisfied: packaging>=20.0 in /usr/local/lib/python3.10/dist-packages (from matplotlib!=3.6.1,>=3.4->seaborn) (24.2)\n",
            "Requirement already satisfied: pillow>=6.2.0 in /usr/local/lib/python3.10/dist-packages (from matplotlib!=3.6.1,>=3.4->seaborn) (11.0.0)\n",
            "Requirement already satisfied: pyparsing>=2.3.1 in /usr/local/lib/python3.10/dist-packages (from matplotlib!=3.6.1,>=3.4->seaborn) (3.2.0)\n",
            "Requirement already satisfied: six>=1.5 in /usr/local/lib/python3.10/dist-packages (from python-dateutil>=2.8.2->pandas) (1.16.0)\n"
          ]
        }
      ],
      "source": [
        "!pip install pandas scikit-learn seaborn scipy"
      ]
    },
    {
      "cell_type": "code",
      "source": [
        "import pandas as pd\n",
        "import numpy as np\n",
        "import matplotlib.pyplot as plt\n",
        "import seaborn as sns\n",
        "\n",
        "from sklearn.preprocessing import MinMaxScaler\n",
        "from sklearn.model_selection import train_test_split\n",
        "from sklearn.preprocessing import StandardScaler\n",
        "from sklearn.linear_model import LogisticRegression\n",
        "from sklearn.metrics import classification_report, confusion_matrix, accuracy_score\n",
        "\n",
        "# Загрузка набора данных\n",
        "df = pd.read_csv('/content/income.csv')\n",
        "\n",
        "df['is_work'] = np.where(df['hours-per-week'] >= 35, 1, 0)\n",
        "df.is_work = df.is_work.astype('category')\n",
        "df['education-num'] = df['education-num'].astype('category')\n",
        "\n",
        "y = df['is_work'] # выбираем целевую переменную (категориальную)\n",
        "X = df.drop('is_work', axis=1) # переменные для проверки влияния\n",
        "\n",
        "# В моем случае я дропаю базовую переменную, а не только. Y\n",
        "X = X.drop('hours-per-week', axis=1)\n",
        "df.drop('hours-per-week', axis=1).info()"
      ],
      "metadata": {
        "colab": {
          "base_uri": "https://localhost:8080/"
        },
        "id": "x_61gm5HJGgc",
        "outputId": "19e45682-09a6-4018-ae59-8c918dd86c68"
      },
      "execution_count": 5,
      "outputs": [
        {
          "output_type": "stream",
          "name": "stdout",
          "text": [
            "<class 'pandas.core.frame.DataFrame'>\n",
            "RangeIndex: 32561 entries, 0 to 32560\n",
            "Data columns (total 14 columns):\n",
            " #   Column          Non-Null Count  Dtype   \n",
            "---  ------          --------------  -----   \n",
            " 0   age             32561 non-null  int64   \n",
            " 1   workclass       30725 non-null  object  \n",
            " 2   education       32561 non-null  object  \n",
            " 3   education-num   32561 non-null  category\n",
            " 4   marital-status  32561 non-null  object  \n",
            " 5   occupation      30718 non-null  object  \n",
            " 6   relationship    32561 non-null  object  \n",
            " 7   race            32561 non-null  object  \n",
            " 8   sex             32561 non-null  object  \n",
            " 9   capital-gain    32561 non-null  int64   \n",
            " 10  capital-loss    32561 non-null  int64   \n",
            " 11  native-country  31978 non-null  object  \n",
            " 12  income >50K     32561 non-null  int64   \n",
            " 13  is_work         32561 non-null  category\n",
            "dtypes: category(2), int64(4), object(8)\n",
            "memory usage: 3.0+ MB\n"
          ]
        }
      ]
    },
    {
      "cell_type": "code",
      "source": [
        "# Создаем копию данных\n",
        "category_columns: list[str] = X.select_dtypes(include=['category']).columns # собираем колонки помеченные как category\n",
        "\n",
        "# Применяем One-Hot Encoding\n",
        "X = pd.get_dummies(X, columns=category_columns,drop_first=True) # drop_first=True позволяет избежать мультиколлинеарности, удаляя первый уровень категориальной переменной.\n"
      ],
      "metadata": {
        "id": "jRIYpXVFkgu0"
      },
      "execution_count": 6,
      "outputs": []
    },
    {
      "cell_type": "markdown",
      "source": [
        "### 1.2 Проверка баланса"
      ],
      "metadata": {
        "id": "y9KAR6I_jjaR"
      }
    },
    {
      "cell_type": "markdown",
      "source": [
        "Проверка, насколько сбалансированы классы в нашей целевой переменной:"
      ],
      "metadata": {
        "id": "zYsMtuW5juJN"
      }
    },
    {
      "cell_type": "code",
      "source": [
        "y.value_counts()"
      ],
      "metadata": {
        "colab": {
          "base_uri": "https://localhost:8080/",
          "height": 178
        },
        "id": "qPhEpal5JH60",
        "outputId": "f0a1aa4e-75cc-43d0-fce4-c4c91ac28dd7"
      },
      "execution_count": 7,
      "outputs": [
        {
          "output_type": "execute_result",
          "data": {
            "text/plain": [
              "is_work\n",
              "1    26978\n",
              "0     5583\n",
              "Name: count, dtype: int64"
            ],
            "text/html": [
              "<div>\n",
              "<style scoped>\n",
              "    .dataframe tbody tr th:only-of-type {\n",
              "        vertical-align: middle;\n",
              "    }\n",
              "\n",
              "    .dataframe tbody tr th {\n",
              "        vertical-align: top;\n",
              "    }\n",
              "\n",
              "    .dataframe thead th {\n",
              "        text-align: right;\n",
              "    }\n",
              "</style>\n",
              "<table border=\"1\" class=\"dataframe\">\n",
              "  <thead>\n",
              "    <tr style=\"text-align: right;\">\n",
              "      <th></th>\n",
              "      <th>count</th>\n",
              "    </tr>\n",
              "    <tr>\n",
              "      <th>is_work</th>\n",
              "      <th></th>\n",
              "    </tr>\n",
              "  </thead>\n",
              "  <tbody>\n",
              "    <tr>\n",
              "      <th>1</th>\n",
              "      <td>26978</td>\n",
              "    </tr>\n",
              "    <tr>\n",
              "      <th>0</th>\n",
              "      <td>5583</td>\n",
              "    </tr>\n",
              "  </tbody>\n",
              "</table>\n",
              "</div><br><label><b>dtype:</b> int64</label>"
            ]
          },
          "metadata": {},
          "execution_count": 7
        }
      ]
    },
    {
      "cell_type": "markdown",
      "source": [
        "### 1.3 Создание искусственного дисбаланса классов\n",
        "Создадим новую целевую переменную y_disbalanced, где 90% классов будут 0, а 10% — 1:"
      ],
      "metadata": {
        "id": "DJrnFZA0jwSA"
      }
    },
    {
      "cell_type": "code",
      "source": [
        "from sklearn.utils import resample\n",
        "\n",
        "# Объединяем X и y для удобства\n",
        "data = pd.concat([X, y], axis=1)\n",
        "\n",
        "# Разделяем на классы\n",
        "majority = data[data['is_work'] == 0]\n",
        "minority = data[data['is_work'] == 1]\n",
        "\n",
        "# Уменьшаем количество экземпляров класса 1\n",
        "minority_downsampled = resample(minority,\n",
        "                                replace=False,\n",
        "                                n_samples=int(len(majority)*0.1),\n",
        "                                random_state=42)\n",
        "\n",
        "# Объединяем обратно\n",
        "data_disbalanced = pd.concat([majority, minority_downsampled])\n",
        "\n",
        "# Новые X и y\n",
        "X_disbalanced = data_disbalanced.drop('is_work', axis=1)\n",
        "y_disbalanced = data_disbalanced['is_work']\n",
        "\n",
        "\n"
      ],
      "metadata": {
        "id": "p7sGbiRdj0wt"
      },
      "execution_count": 8,
      "outputs": []
    },
    {
      "cell_type": "markdown",
      "source": [
        "Проверим новый баланс классов:"
      ],
      "metadata": {
        "id": "6vD4H-e3j5VK"
      }
    },
    {
      "cell_type": "code",
      "source": [
        "print(y_disbalanced.value_counts())\n"
      ],
      "metadata": {
        "colab": {
          "base_uri": "https://localhost:8080/"
        },
        "id": "FDCZ7UTKj5nw",
        "outputId": "2ef02a2b-5cb4-456b-8201-a64ad7e6dd88"
      },
      "execution_count": 9,
      "outputs": [
        {
          "output_type": "stream",
          "name": "stdout",
          "text": [
            "is_work\n",
            "0    5583\n",
            "1     558\n",
            "Name: count, dtype: int64\n"
          ]
        }
      ]
    },
    {
      "cell_type": "markdown",
      "source": [
        "###1.4 Обучаем логистическую регрессию (без доп. манипуляций) на дисбалансе"
      ],
      "metadata": {
        "id": "AX3EETGtj_j7"
      }
    },
    {
      "cell_type": "code",
      "source": [
        "# from sklearn.model_selection import train_test_split\n",
        "# from sklearn.linear_model import LogisticRegression\n",
        "\n",
        "# # Разделяем данные на обучающую и тестовую выборки\n",
        "# X_train, X_test, y_train, y_test = train_test_split(X_disbalanced, y_disbalanced, test_size=0.3, random_state=42)\n",
        "\n",
        "# # Обучаем модель\n",
        "# model = LogisticRegression(penalty=None, solver='saga', max_iter=10000)\n",
        "# model.fit(X_train, y_train)\n",
        "\n",
        "# # Предсказания\n",
        "# y_pred = model.predict(X_test)\n",
        "\n",
        "import pandas as pd\n",
        "from sklearn.model_selection import train_test_split\n",
        "from sklearn.linear_model import LogisticRegression\n",
        "\n",
        "# Применяем One-Hot Encoding к категориальным переменным\n",
        "X_disbalanced_encoded = pd.get_dummies(X_disbalanced, drop_first=True)\n",
        "\n",
        "# Разделяем данные на обучающую и тестовую выборки\n",
        "X_train, X_test, y_train, y_test = train_test_split(X_disbalanced_encoded, y_disbalanced, test_size=0.3, random_state=42)\n",
        "\n",
        "# Обучаем модель с использованием L2 регуляризации\n",
        "model = LogisticRegression(penalty='l2', solver='saga', max_iter=10000)\n",
        "model.fit(X_train, y_train)\n",
        "\n",
        "# Предсказания\n",
        "y_pred = model.predict(X_test)\n",
        "\n",
        "# Вывод результатов\n",
        "print(\"Predictions:\", y_pred)\n"
      ],
      "metadata": {
        "id": "IJMKbFvakQ8O",
        "colab": {
          "base_uri": "https://localhost:8080/"
        },
        "outputId": "8b07b9d6-7a82-4c0a-9364-d279d2a04f0d"
      },
      "execution_count": 10,
      "outputs": [
        {
          "output_type": "stream",
          "name": "stdout",
          "text": [
            "Predictions: [0 0 0 ... 0 0 0]\n"
          ]
        }
      ]
    },
    {
      "cell_type": "code",
      "source": [
        "from sklearn.metrics import classification_report, accuracy_score\n",
        "\n",
        "print(\"Accuracy:\", accuracy_score(y_test, y_pred))\n",
        "print(\"\\nClassification Report:\\n\", classification_report(y_test, y_pred))\n"
      ],
      "metadata": {
        "colab": {
          "base_uri": "https://localhost:8080/"
        },
        "id": "cqbFszwMkwgN",
        "outputId": "c348ff76-a2c4-4133-f95f-0941ad6fd319"
      },
      "execution_count": 11,
      "outputs": [
        {
          "output_type": "stream",
          "name": "stdout",
          "text": [
            "Accuracy: 0.9066739012479653\n",
            "\n",
            "Classification Report:\n",
            "               precision    recall  f1-score   support\n",
            "\n",
            "           0       0.91      1.00      0.95      1671\n",
            "           1       0.00      0.00      0.00       172\n",
            "\n",
            "    accuracy                           0.91      1843\n",
            "   macro avg       0.45      0.50      0.48      1843\n",
            "weighted avg       0.82      0.91      0.86      1843\n",
            "\n"
          ]
        },
        {
          "output_type": "stream",
          "name": "stderr",
          "text": [
            "/usr/local/lib/python3.10/dist-packages/sklearn/metrics/_classification.py:1531: UndefinedMetricWarning: Precision is ill-defined and being set to 0.0 in labels with no predicted samples. Use `zero_division` parameter to control this behavior.\n",
            "  _warn_prf(average, modifier, f\"{metric.capitalize()} is\", len(result))\n",
            "/usr/local/lib/python3.10/dist-packages/sklearn/metrics/_classification.py:1531: UndefinedMetricWarning: Precision is ill-defined and being set to 0.0 in labels with no predicted samples. Use `zero_division` parameter to control this behavior.\n",
            "  _warn_prf(average, modifier, f\"{metric.capitalize()} is\", len(result))\n",
            "/usr/local/lib/python3.10/dist-packages/sklearn/metrics/_classification.py:1531: UndefinedMetricWarning: Precision is ill-defined and being set to 0.0 in labels with no predicted samples. Use `zero_division` parameter to control this behavior.\n",
            "  _warn_prf(average, modifier, f\"{metric.capitalize()} is\", len(result))\n"
          ]
        }
      ]
    },
    {
      "cell_type": "code",
      "source": [
        "\n",
        "\n",
        "unique, counts = np.unique(y_pred, return_counts=True) # получаем уникальные значения и их количество в предсказанных данных\n",
        "\n",
        "dict(zip(unique, counts)) # данная ситуация называется переобучением. Модель очень хорошо обучилась на 0, настолько, что не может предсказать 1"
      ],
      "metadata": {
        "colab": {
          "base_uri": "https://localhost:8080/"
        },
        "id": "_qEyKq7kk14z",
        "outputId": "f0b2fb3c-817c-472a-9881-72b945914bc2"
      },
      "execution_count": 12,
      "outputs": [
        {
          "output_type": "execute_result",
          "data": {
            "text/plain": [
              "{0: 1843}"
            ]
          },
          "metadata": {},
          "execution_count": 12
        }
      ]
    },
    {
      "cell_type": "markdown",
      "source": [
        "### 1.5 Создадим сбалансированную выборку, и попробуем сделать тоже самое"
      ],
      "metadata": {
        "id": "YEA3ALVymW04"
      }
    },
    {
      "cell_type": "code",
      "source": [
        "# # Уменьшаем количество экземпляров класса 0\n",
        "# majority_downsampled = resample(majority,\n",
        "#                                 replace=False,\n",
        "#                                 n_samples=len(minority),\n",
        "#                                 random_state=42)\n",
        "\n",
        "# # Объединяем обратно\n",
        "# data_balanced = pd.concat([majority_downsampled, minority])\n",
        "\n",
        "# # Новые X и y\n",
        "# X_balanced = data_balanced.drop('is_work', axis=1)\n",
        "# y_balanced = data_balanced['is_work']\n",
        "\n",
        "from sklearn.utils import resample\n",
        "\n",
        "# Предполагаем, что majority и minority уже определены\n",
        "# Проверяем количество экземпляров\n",
        "n_majority = len(majority)\n",
        "n_minority = len(minority)\n",
        "\n",
        "# Уменьшаем количество экземпляров класса 0, но не превышаем их количество\n",
        "n_samples = min(n_majority, n_minority)\n",
        "\n",
        "# Уменьшаем количество экземпляров класса 0\n",
        "majority_downsampled = resample(majority,\n",
        "                                 replace=False,\n",
        "                                 n_samples=n_samples,\n",
        "                                 random_state=42)\n",
        "\n",
        "# Объединяем обратно\n",
        "data_balanced = pd.concat([majority_downsampled, minority])\n",
        "\n",
        "# Новые X и y\n",
        "X_balanced = data_balanced.drop('is_work', axis=1)\n",
        "y_balanced = data_balanced['is_work']\n"
      ],
      "metadata": {
        "id": "_F7eCTuRlOOU"
      },
      "execution_count": 13,
      "outputs": []
    },
    {
      "cell_type": "code",
      "source": [
        "print(y_balanced.value_counts())\n"
      ],
      "metadata": {
        "colab": {
          "base_uri": "https://localhost:8080/"
        },
        "id": "TJBhjG3llfvJ",
        "outputId": "8771a747-d5b5-44b0-fbbe-c1d8741b8fa7"
      },
      "execution_count": 14,
      "outputs": [
        {
          "output_type": "stream",
          "name": "stdout",
          "text": [
            "is_work\n",
            "1    26978\n",
            "0     5583\n",
            "Name: count, dtype: int64\n"
          ]
        }
      ]
    },
    {
      "cell_type": "code",
      "source": [
        "print(X_balanced.columns)\n",
        "\n"
      ],
      "metadata": {
        "colab": {
          "base_uri": "https://localhost:8080/"
        },
        "id": "EGPbaQrS8LNv",
        "outputId": "0ed92ae3-c7fe-458a-ee8b-fd2dc0721c0e"
      },
      "execution_count": 15,
      "outputs": [
        {
          "output_type": "stream",
          "name": "stdout",
          "text": [
            "Index(['age', 'workclass', 'education', 'marital-status', 'occupation',\n",
            "       'relationship', 'race', 'sex', 'capital-gain', 'capital-loss',\n",
            "       'native-country', 'income >50K', 'education-num_2', 'education-num_3',\n",
            "       'education-num_4', 'education-num_5', 'education-num_6',\n",
            "       'education-num_7', 'education-num_8', 'education-num_9',\n",
            "       'education-num_10', 'education-num_11', 'education-num_12',\n",
            "       'education-num_13', 'education-num_14', 'education-num_15',\n",
            "       'education-num_16'],\n",
            "      dtype='object')\n"
          ]
        }
      ]
    },
    {
      "cell_type": "code",
      "source": [
        "# # Разделяем данные\n",
        "# X_train_bal, X_test_bal, y_train_bal, y_test_bal = train_test_split(X_balanced, y_balanced, test_size=0.3, random_state=42)\n",
        "\n",
        "# # Обучаем модель\n",
        "# model_balanced = LogisticRegression(penalty=None, solver='saga', max_iter=10000)\n",
        "# model_balanced.fit(X_train_bal, y_train_bal)\n",
        "\n",
        "# # Предсказания\n",
        "# y_pred_bal = model_balanced.predict(X_test_bal)\n",
        "from imblearn.over_sampling import SMOTE\n",
        "\n",
        "# Убедитесь, что y является категориальным\n",
        "y = y.astype('category')\n",
        "\n",
        "# Применение One-Hot Encoding\n",
        "X = pd.get_dummies(X, drop_first=True)\n",
        "\n",
        "# Преобразование всех столбцов в числовые\n",
        "X = X.astype(float)\n",
        "\n",
        "# Проверка на наличие классов в y\n",
        "if y.nunique() < 2:\n",
        "    raise ValueError(\"Целевая переменная должна содержать как минимум два класса.\")\n",
        "\n",
        "# Балансировка классов с использованием SMOTE\n",
        "smote = SMOTE(random_state=42)\n",
        "X_balanced, y_balanced = smote.fit_resample(X, y)\n",
        "\n",
        "# Разделяем данные\n",
        "X_train_bal, X_test_bal, y_train_bal, y_test_bal = train_test_split(X_balanced, y_balanced, test_size=0.3, random_state=42)\n",
        "\n",
        "# Обучаем модель с корректным значением penalty\n",
        "model_balanced = LogisticRegression(penalty='l2', solver='saga', max_iter=10000)\n",
        "\n",
        "# Проверка размеров данных перед обучением\n",
        "print(\"Размеры обучающего набора:\", X_train_bal.shape, y_train_bal.shape)\n",
        "print(\"Размеры тестового набора:\", X_test_bal.shape, y_test_bal.shape)\n",
        "\n",
        "# Обучаем модель\n",
        "model_balanced = LogisticRegression(penalty=None, solver='saga', max_iter=10000)\n",
        "model_balanced.fit(X_train_bal, y_train_bal)\n",
        "\n",
        "# Предсказания\n",
        "try:\n",
        "    y_pred_bal = model_balanced.predict(X_test_bal)\n",
        "    print(\"Предсказания выполнены.\")\n",
        "except Exception as e:\n",
        "    print(\"Ошибка при выполнении предсказаний:\", e)"
      ],
      "metadata": {
        "id": "VjaNWBftlgwG",
        "colab": {
          "base_uri": "https://localhost:8080/"
        },
        "outputId": "64b97b4c-e433-4be1-9b02-2faf5b598423"
      },
      "execution_count": null,
      "outputs": [
        {
          "metadata": {
            "tags": null
          },
          "name": "stdout",
          "output_type": "stream",
          "text": [
            "Размеры обучающего набора: (37769, 110) (37769,)\n",
            "Размеры тестового набора: (16187, 110) (16187,)\n"
          ]
        }
      ]
    },
    {
      "cell_type": "code",
      "source": [
        "print(\"Accuracy:\", accuracy_score(y_test_bal, y_pred_bal))\n",
        "print(\"\\nClassification Report:\\n\", classification_report(y_test_bal, y_pred_bal))\n"
      ],
      "metadata": {
        "colab": {
          "base_uri": "https://localhost:8080/"
        },
        "id": "D3Bfbrccll_h",
        "outputId": "a3174f01-5a1a-455d-82d0-2a7519f8a251"
      },
      "execution_count": 17,
      "outputs": [
        {
          "metadata": {
            "tags": null
          },
          "name": "stdout",
          "output_type": "stream",
          "text": [
            "Accuracy: 0.6562055970840798\n",
            "\n",
            "Classification Report:\n",
            "               precision    recall  f1-score   support\n",
            "\n",
            "           0       0.77      0.44      0.56      7996\n",
            "           1       0.61      0.87      0.72      8191\n",
            "\n",
            "    accuracy                           0.66     16187\n",
            "   macro avg       0.69      0.65      0.64     16187\n",
            "weighted avg       0.69      0.66      0.64     16187\n",
            "\n"
          ]
        }
      ]
    },
    {
      "cell_type": "code",
      "source": [
        "unique, counts = np.unique(y_pred_bal, return_counts=True) # получаем уникальные значения и их количество в предсказанных данных\n",
        "\n",
        "dict(zip(unique, counts)) # Текущая модель показывает неплохие результаты. Попробуем улучшить"
      ],
      "metadata": {
        "colab": {
          "base_uri": "https://localhost:8080/"
        },
        "id": "-P0Kgn2jlm58",
        "outputId": "57449b85-5231-4545-b374-164bee444a57"
      },
      "execution_count": 18,
      "outputs": [
        {
          "data": {
            "text/plain": [
              "{0: 4531, 1: 11656}"
            ]
          },
          "execution_count": 18,
          "metadata": {},
          "output_type": "execute_result"
        }
      ]
    },
    {
      "cell_type": "code",
      "source": [
        "# Выбираем числовые признаки\n",
        "numeric_features = X_balanced.select_dtypes(include=['float64']).columns.tolist()\n",
        "\n",
        "# Инициализируем scaler\n",
        "scaler = MinMaxScaler()\n",
        "\n",
        "# Применяем нормализацию\n",
        "X_balanced[numeric_features] = scaler.fit_transform(X_balanced[numeric_features])\n"
      ],
      "metadata": {
        "id": "oBb_XE0ml6eq"
      },
      "execution_count": 19,
      "outputs": []
    },
    {
      "cell_type": "code",
      "source": [
        "# Разделяем данные\n",
        "X_train_bal, X_test_bal, y_train_bal, y_test_bal = train_test_split(X_balanced, y_balanced, test_size=0.3, random_state=42)\n",
        "\n",
        "# Обучаем модель\n",
        "model_balanced = LogisticRegression(penalty=None, solver='saga', max_iter=10000)\n",
        "model_balanced.fit(X_train_bal, y_train_bal)\n",
        "\n",
        "# Предсказания\n",
        "y_pred_bal = model_balanced.predict(X_test_bal)\n"
      ],
      "metadata": {
        "id": "g73T_SCjmCRf"
      },
      "execution_count": 20,
      "outputs": []
    },
    {
      "cell_type": "code",
      "source": [
        "print(\"Accuracy:\", accuracy_score(y_test_bal, y_pred_bal))\n",
        "print(\"\\nClassification Report:\\n\", classification_report(y_test_bal, y_pred_bal)) # Дополнительно получили 1.57% точности, отлично!\n"
      ],
      "metadata": {
        "colab": {
          "base_uri": "https://localhost:8080/"
        },
        "id": "vEMI1qBPmEkv",
        "outputId": "6a6a1199-d7c4-4657-b0cf-54587fceeff4"
      },
      "execution_count": 21,
      "outputs": [
        {
          "metadata": {
            "tags": null
          },
          "name": "stdout",
          "output_type": "stream",
          "text": [
            "Accuracy: 0.7346636189534812\n",
            "\n",
            "Classification Report:\n",
            "               precision    recall  f1-score   support\n",
            "\n",
            "           0       0.72      0.75      0.74      7996\n",
            "           1       0.74      0.72      0.73      8191\n",
            "\n",
            "    accuracy                           0.73     16187\n",
            "   macro avg       0.73      0.73      0.73     16187\n",
            "weighted avg       0.73      0.73      0.73     16187\n",
            "\n"
          ]
        }
      ]
    },
    {
      "cell_type": "code",
      "source": [
        "unique, counts = np.unique(y_pred_bal, return_counts=True) # получаем уникальные значения и их количество в предсказанных данных\n",
        "\n",
        "dict(zip(unique, counts)) # Текущая модель показывает неплохие результаты. Попробуем улучшить"
      ],
      "metadata": {
        "colab": {
          "base_uri": "https://localhost:8080/"
        },
        "id": "dgGtXPrRm8ek",
        "outputId": "55a1c472-3555-43ed-97e3-979adab8368b"
      },
      "execution_count": 22,
      "outputs": [
        {
          "data": {
            "text/plain": [
              "{0: 8235, 1: 7952}"
            ]
          },
          "execution_count": 22,
          "metadata": {},
          "output_type": "execute_result"
        }
      ]
    },
    {
      "cell_type": "markdown",
      "source": [
        "# 2 Метрики качества классификаци"
      ],
      "metadata": {
        "id": "RabWXdKjnDy5"
      }
    },
    {
      "cell_type": "markdown",
      "source": [
        "Приведу разбор метрик классификации с аналогиями, используя пример с яблоками разных цветов 🍏🍎. Представьте, что задача — правильно определить, какие яблоки зеленые, красные или желтые. Каждая метрика поможет оценить, насколько хорошо мы справляемся с этой задачей."
      ],
      "metadata": {
        "id": "BOlb48dQoBgT"
      }
    },
    {
      "cell_type": "markdown",
      "source": [
        "То есть, есть Y, который состоит из яблок разных цветов\n",
        "- 1 🍏 - класс 0\n",
        "- 2 🍎 - класс 1"
      ],
      "metadata": {
        "id": "qvFi0dEHoEPR"
      }
    },
    {
      "cell_type": "markdown",
      "source": [
        "Прежде чем перейти к метрикам, важно понять, что означают обозначения TP, FP, TN, FN. Они представляют разные типы предсказаний:\n",
        "\n",
        "- TP (True Positive) — правильно предсказанные положительные примеры (например, если мы верно определили 🍏 как зеленое яблоко).\n",
        "\n",
        "- FP (False Positive) — ошибочно предсказанные положительные примеры (например, если мы предсказали 🍎 как 🍏).\n",
        "\n",
        "- TN (True Negative) — правильно предсказанные отрицательные примеры (например, если мы верно определили, что 🍎 не является 🍏).\n",
        "\n",
        "- FN (False Negative) — ошибочно предсказанные отрицательные примеры (например, если мы не определили 🍏 как зеленое яблоко, хотя оно таким является)."
      ],
      "metadata": {
        "id": "AiV7MhY4odQj"
      }
    },
    {
      "cell_type": "markdown",
      "source": [
        "### 2.1 Точность (Accuracy)"
      ],
      "metadata": {
        "id": "rzE88oyboret"
      }
    },
    {
      "cell_type": "markdown",
      "source": [
        "\n",
        "Формула:\n",
        "Accuracy = (TP + TN) / (TP + FP + TN + FN)\n",
        "\n",
        "Пример:\n",
        "У нас 10 яблок: 4 🍏, 3 🍎, 3 🍊. Алгоритм правильно предсказал 7 из них.\n",
        "Accuracy = 7 / 10 = 0.7 или 70%\n",
        "\n",
        "**Когда использовать**:\n",
        "Точность полезна, когда классы сбалансированы (примерно равное количество примеров каждого типа). В случаях сильного дисбаланса классов, точность может стать вводящей в заблуждение, так как она не учитывает, что какой-то класс может преобладать."
      ],
      "metadata": {
        "id": "zJ3UkXfJoqLD"
      }
    },
    {
      "cell_type": "markdown",
      "source": [],
      "metadata": {
        "id": "5oSxEzSOpCzO"
      }
    },
    {
      "cell_type": "markdown",
      "source": [
        "### 2.2 Precision и Recall"
      ],
      "metadata": {
        "id": "nevk2uCPo226"
      }
    },
    {
      "cell_type": "markdown",
      "source": [
        "- Precision (Точность) — процент верных положительных предсказаний среди всех предсказанных положительных.\n",
        "- Recall (Полнота) — процент верных положительных предсказаний среди всех фактических положительных случаев.\n",
        "\n",
        "Формулы:\n",
        "- Precision = TP / (TP + FP)\n",
        "- Recall = TP / (TP + FN)\n",
        "\n",
        "Пример:\n",
        "Мы пытаемся предсказать 🍏 (зеленое яблоко).\n",
        "\n",
        "У нас 5 🍏, из них 4 правильно определены как 🍏, но 1 🍎 ошибочно классифицировано как 🍏.\n",
        "- Precision для 🍏: 4 / (4 + 1) = 0.8 или 80%\n",
        "- Recall для 🍏: 4 / (4 + 1) = 0.8 или 80%\n",
        "\n",
        "**Когда использовать**:\n",
        "\n",
        "Precision важен, когда критично избежать ложных положительных предсказаний (например, если ошибочно отнесенные яблоки могут повлиять на качество товара).\n",
        "Recall важен, когда критично найти все положительные примеры (например, если требуется найти все 🍏 в ящике, чтобы их не упустить)."
      ],
      "metadata": {
        "id": "cNPacE6Moz6c"
      }
    },
    {
      "cell_type": "markdown",
      "source": [
        "<img src=\"https://upload.wikimedia.org/wikipedia/commons/thumb/2/26/Precisionrecall.svg/700px-Precisionrecall.svg.png\" height=800 />"
      ],
      "metadata": {
        "id": "k7xFNJv_pP06"
      }
    },
    {
      "cell_type": "markdown",
      "source": [
        "### 2.3. F1-score"
      ],
      "metadata": {
        "id": "cw2GYkdSpkqN"
      }
    },
    {
      "cell_type": "markdown",
      "source": [
        "\n",
        "F1-score — это гармоническое среднее между Precision и Recall, что позволяет учитывать как ложноположительные, так и ложноотрицательные предсказания.\n",
        "\n",
        "Формула:\n",
        "- F1 = 2 * (Precision * Recall) / (Precision + Recall)\n",
        "\n",
        "Пример:\n",
        "\n",
        "Если Precision = 80% и Recall = 80%, то:\n",
        "F1 = 2 * (0.8 * 0.8) / (0.8 + 0.8) = 0.8 или 80%\n",
        "\n",
        "**Когда использовать**:\n",
        "F1-score полезен, когда требуется балансировать между Precision и Recall, особенно при наличии дисбаланса классов. Он важен, когда критично учитывать и ложные положительные, и ложные отрицательные предсказания."
      ],
      "metadata": {
        "id": "Hwis9I8_piRv"
      }
    },
    {
      "cell_type": "markdown",
      "source": [
        "### 2.4. ROC-AUC\n",
        "ROC-кривая показывает, как меняется соотношение между True Positive Rate (доля правильно предсказанных положительных) и False Positive Rate (доля ошибочно предсказанных положительных) при разных порогах. AUC (площадь под ROC-кривой) измеряет общую способность модели различать классы.\n",
        "\n",
        "Когда использовать:\n",
        "ROC-AUC используется для оценки моделей, когда требуется понять способность модели различать классы в задаче классификации. Чем ближе AUC к 1, тем лучше модель. AUC особенно полезен, когда классы несбалансированы, так как он показывает общую производительность модели при разных порогах."
      ],
      "metadata": {
        "id": "x674IEpYpuEj"
      }
    },
    {
      "cell_type": "markdown",
      "source": [
        "ROC-кривая (Receiver Operating Characteristic) отображает зависимость между:\n",
        "\n",
        "- True Positive Rate (TPR) — это доля правильно предсказанных положительных примеров среди всех фактических положительных примеров.\n",
        "Формула: TPR = TP / (TP + FN)\n",
        "\n",
        "- False Positive Rate (FPR) — это доля ошибочно предсказанных положительных примеров среди всех фактических отрицательных примеров.\n",
        "Формула: FPR = FP / (FP + TN)"
      ],
      "metadata": {
        "id": "DoVOwKz_qB22"
      }
    },
    {
      "cell_type": "markdown",
      "source": [
        "На графике ROC:\n",
        "\n",
        "- Ось Y представляет TPR (доля верных положительных предсказаний).\n",
        "- Ось X представляет FPR (доля ошибочных положительных предсказаний)."
      ],
      "metadata": {
        "id": "3pTse-cTqE8q"
      }
    },
    {
      "cell_type": "markdown",
      "source": [
        "AUC (Area Under Curve) — это площадь под ROC-кривой. Она измеряет способность модели различать классы: чем больше площадь (чем ближе AUC к 1), тем лучше модель справляется с разделением классов.\n",
        "\n",
        "- AUC = 1 — идеальная модель: она всегда отличает положительный класс от отрицательного.\n",
        "- AUC = 0.5 — случайное угадывание, модель не способна различать классы лучше, чем просто случайный выбор."
      ],
      "metadata": {
        "id": "gaHh_EM_qIOZ"
      }
    },
    {
      "cell_type": "markdown",
      "source": [
        "[Подробнее](https://developers.google.com/machine-learning/crash-course/classification/roc-and-auc?hl=ru)"
      ],
      "metadata": {
        "id": "ZWosU5soqOXc"
      }
    },
    {
      "cell_type": "markdown",
      "source": [
        "### 2.5 Classification Report"
      ],
      "metadata": {
        "id": "kTosYweuq7M5"
      }
    },
    {
      "cell_type": "markdown",
      "source": [
        "### Classification Report (на примере 🍏 и 🍎):\n",
        "\n",
        "|               | Precision | Recall | F1-score | Support |\n",
        "|---------------|-----------|--------|----------|---------|\n",
        "| **0 (🍏)**    | 0.78      | 0.73   | 0.75     | 390     |\n",
        "| **1 (🍎)**    | 0.74      | 0.79   | 0.76     | 377     |\n",
        "| **Accuracy**  |           |        | 0.76     | 767     |\n",
        "| **Macro avg** | 0.76      | 0.76   | 0.76     | 767     |\n",
        "| **Weighted avg** | 0.76   | 0.76   | 0.76     | 767     |\n",
        "\n",
        "---\n",
        "\n",
        "1. **Precision**:\n",
        "   - **🍏 (0.78)** — 78% предсказанных 🍏 действительно 🍏.\n",
        "   - **🍎 (0.74)** — 74% предсказанных 🍎 действительно 🍎.\n",
        "\n",
        "2. **Recall**:\n",
        "   - **🍏 (0.73)** — модель нашла 73% всех 🍏.\n",
        "   - **🍎 (0.79)** — модель нашла 79% всех 🍎.\n",
        "\n",
        "3. **F1-score**:\n",
        "   - **🍏 (0.75)**, **🍎 (0.76)** — баланс Precision и Recall для каждого класса.\n",
        "\n",
        "4. **Accuracy** = 0.76 — 76% всех предсказаний правильны.\n"
      ],
      "metadata": {
        "id": "nLk7T4zVq-y_"
      }
    },
    {
      "cell_type": "markdown",
      "source": [
        "### 2.6 А теперь до делу (вернемся к прошлым примерам и проанализуем нашу ситуацию)"
      ],
      "metadata": {
        "id": "Rqje88NbrEqV"
      }
    },
    {
      "cell_type": "code",
      "source": [
        "# Разделяем данные\n",
        "X_train_bal, X_test_bal, y_train_bal, y_test_bal = train_test_split(X_balanced, y_balanced, test_size=0.3, random_state=42)\n",
        "\n",
        "# Обучаем модель\n",
        "model_balanced = LogisticRegression(penalty=None, solver='saga', max_iter=10000)\n",
        "model_balanced.fit(X_train_bal, y_train_bal)\n",
        "\n",
        "# Предсказания\n",
        "y_pred_bal = model_balanced.predict(X_test_bal)\n"
      ],
      "metadata": {
        "id": "AxDEOjGOrOPw"
      },
      "execution_count": 23,
      "outputs": []
    },
    {
      "cell_type": "code",
      "source": [
        "from sklearn.metrics import classification_report, confusion_matrix, accuracy_score, precision_score, recall_score, f1_score, roc_auc_score\n",
        "# Вычисляем матрицу ошибок (TP, FP, TN, FN)\n",
        "conf_matrix = confusion_matrix(y_test_bal, y_pred_bal)\n",
        "tn, fp, fn, tp = conf_matrix.ravel()\n",
        "\n",
        "# Рассчитываем метрики\n",
        "accuracy = accuracy_score(y_test_bal, y_pred_bal)\n",
        "precision = precision_score(y_test_bal, y_pred_bal)\n",
        "recall = recall_score(y_test_bal, y_pred_bal)\n",
        "f1 = f1_score(y_test_bal, y_pred_bal)\n",
        "roc_auc = roc_auc_score(y_test_bal, y_pred_bal)\n",
        "\n",
        "# Генерируем classification_report\n",
        "class_report = classification_report(y_test_bal, y_pred_bal, output_dict=True)\n",
        "\n",
        "# Формируем результаты для наглядного вывода\n",
        "results = {\n",
        "    \"True Negatives (TN)\": tn,\n",
        "    \"False Positives (FP)\": fp,\n",
        "    \"False Negatives (FN)\": fn,\n",
        "    \"True Positives (TP)\": tp,\n",
        "    \"Accuracy\": accuracy,\n",
        "    \"Precision\": precision,\n",
        "    \"Recall\": recall,\n",
        "    \"F1-score\": f1,\n",
        "    \"ROC-AUC\": roc_auc,\n",
        "}\n",
        "\n",
        "# Округляем все значения в словаре до двух знаков после запятой и возвращаем в виде dict.items()\n",
        "rounded_items = {k: round(v, 2) for k, v in results.items()}\n"
      ],
      "metadata": {
        "id": "QnQkGq9MrQnA"
      },
      "execution_count": 24,
      "outputs": []
    },
    {
      "cell_type": "markdown",
      "source": [
        "⏰ оцениваем метрики и объясняем результат (без ChatGPT)"
      ],
      "metadata": {
        "id": "tNO597Ooz_-4"
      }
    },
    {
      "cell_type": "code",
      "source": [
        "print(classification_report(y_test_bal, y_pred_bal))"
      ],
      "metadata": {
        "colab": {
          "base_uri": "https://localhost:8080/"
        },
        "id": "Wj8pLqRZsImv",
        "outputId": "bc2125aa-b1da-425e-f294-024c67fa3fb0"
      },
      "execution_count": 25,
      "outputs": [
        {
          "metadata": {
            "tags": null
          },
          "name": "stdout",
          "output_type": "stream",
          "text": [
            "              precision    recall  f1-score   support\n",
            "\n",
            "           0       0.72      0.75      0.74      7996\n",
            "           1       0.74      0.72      0.73      8191\n",
            "\n",
            "    accuracy                           0.73     16187\n",
            "   macro avg       0.73      0.73      0.73     16187\n",
            "weighted avg       0.73      0.73      0.73     16187\n",
            "\n"
          ]
        }
      ]
    },
    {
      "cell_type": "code",
      "source": [
        "conf_matrix # Матрица\n",
        "# TN FP\n",
        "# FN TP"
      ],
      "metadata": {
        "colab": {
          "base_uri": "https://localhost:8080/"
        },
        "id": "kvCW7ApIrytX",
        "outputId": "287abd58-00bc-4f94-a41f-7102d029da04"
      },
      "execution_count": 26,
      "outputs": [
        {
          "data": {
            "text/plain": [
              "array([[5968, 2028],\n",
              "       [2267, 5924]])"
            ]
          },
          "execution_count": 26,
          "metadata": {},
          "output_type": "execute_result"
        }
      ]
    },
    {
      "cell_type": "code",
      "source": [
        "rounded_items"
      ],
      "metadata": {
        "colab": {
          "base_uri": "https://localhost:8080/"
        },
        "id": "v-MmDCZ0r7cc",
        "outputId": "770cb47c-11e8-4489-bdf3-bc92be494bed"
      },
      "execution_count": 27,
      "outputs": [
        {
          "data": {
            "text/plain": [
              "{'True Negatives (TN)': 5968,\n",
              " 'False Positives (FP)': 2028,\n",
              " 'False Negatives (FN)': 2267,\n",
              " 'True Positives (TP)': 5924,\n",
              " 'Accuracy': 0.73,\n",
              " 'Precision': 0.74,\n",
              " 'Recall': 0.72,\n",
              " 'F1-score': 0.73,\n",
              " 'ROC-AUC': 0.73}"
            ]
          },
          "execution_count": 27,
          "metadata": {},
          "output_type": "execute_result"
        }
      ]
    },
    {
      "cell_type": "markdown",
      "source": [
        "# 3. Задача мультиклассовой классфикации"
      ],
      "metadata": {
        "id": "zauRTL54s91h"
      }
    },
    {
      "cell_type": "markdown",
      "source": [
        "Задача мультиклассовой классификации - когда мы хотим предсказать сразу несколько классов"
      ],
      "metadata": {
        "id": "ZJcQNj8ZtBkm"
      }
    },
    {
      "cell_type": "markdown",
      "source": [
        "В качестве y - используем quality"
      ],
      "metadata": {
        "id": "tDXhVAWatIJG"
      }
    },
    {
      "cell_type": "code",
      "source": [
        "y = df['quality']\n",
        "\n",
        "X = df.drop(['quality', 'is_best_wine'], axis=1)"
      ],
      "metadata": {
        "id": "zY3rLPEGtK4s",
        "outputId": "198614cb-8195-4619-cc78-b5f59e175dc4",
        "colab": {
          "base_uri": "https://localhost:8080/",
          "height": 547
        }
      },
      "execution_count": 28,
      "outputs": [
        {
          "ename": "KeyError",
          "evalue": "'quality'",
          "output_type": "error",
          "traceback": [
            "\u001b[0;31m---------------------------------------------------------------------------\u001b[0m",
            "\u001b[0;31mKeyError\u001b[0m                                  Traceback (most recent call last)",
            "\u001b[0;32m/usr/local/lib/python3.10/dist-packages/pandas/core/indexes/base.py\u001b[0m in \u001b[0;36mget_loc\u001b[0;34m(self, key)\u001b[0m\n\u001b[1;32m   3804\u001b[0m         \u001b[0;32mtry\u001b[0m\u001b[0;34m:\u001b[0m\u001b[0;34m\u001b[0m\u001b[0;34m\u001b[0m\u001b[0m\n\u001b[0;32m-> 3805\u001b[0;31m             \u001b[0;32mreturn\u001b[0m \u001b[0mself\u001b[0m\u001b[0;34m.\u001b[0m\u001b[0m_engine\u001b[0m\u001b[0;34m.\u001b[0m\u001b[0mget_loc\u001b[0m\u001b[0;34m(\u001b[0m\u001b[0mcasted_key\u001b[0m\u001b[0;34m)\u001b[0m\u001b[0;34m\u001b[0m\u001b[0;34m\u001b[0m\u001b[0m\n\u001b[0m\u001b[1;32m   3806\u001b[0m         \u001b[0;32mexcept\u001b[0m \u001b[0mKeyError\u001b[0m \u001b[0;32mas\u001b[0m \u001b[0merr\u001b[0m\u001b[0;34m:\u001b[0m\u001b[0;34m\u001b[0m\u001b[0;34m\u001b[0m\u001b[0m\n",
            "\u001b[0;32mindex.pyx\u001b[0m in \u001b[0;36mpandas._libs.index.IndexEngine.get_loc\u001b[0;34m()\u001b[0m\n",
            "\u001b[0;32mindex.pyx\u001b[0m in \u001b[0;36mpandas._libs.index.IndexEngine.get_loc\u001b[0;34m()\u001b[0m\n",
            "\u001b[0;32mpandas/_libs/hashtable_class_helper.pxi\u001b[0m in \u001b[0;36mpandas._libs.hashtable.PyObjectHashTable.get_item\u001b[0;34m()\u001b[0m\n",
            "\u001b[0;32mpandas/_libs/hashtable_class_helper.pxi\u001b[0m in \u001b[0;36mpandas._libs.hashtable.PyObjectHashTable.get_item\u001b[0;34m()\u001b[0m\n",
            "\u001b[0;31mKeyError\u001b[0m: 'quality'",
            "\nThe above exception was the direct cause of the following exception:\n",
            "\u001b[0;31mKeyError\u001b[0m                                  Traceback (most recent call last)",
            "\u001b[0;32m<ipython-input-28-e9a1f5c9519f>\u001b[0m in \u001b[0;36m<cell line: 1>\u001b[0;34m()\u001b[0m\n\u001b[0;32m----> 1\u001b[0;31m \u001b[0my\u001b[0m \u001b[0;34m=\u001b[0m \u001b[0mdf\u001b[0m\u001b[0;34m[\u001b[0m\u001b[0;34m'quality'\u001b[0m\u001b[0;34m]\u001b[0m\u001b[0;34m\u001b[0m\u001b[0;34m\u001b[0m\u001b[0m\n\u001b[0m\u001b[1;32m      2\u001b[0m \u001b[0;34m\u001b[0m\u001b[0m\n\u001b[1;32m      3\u001b[0m \u001b[0mX\u001b[0m \u001b[0;34m=\u001b[0m \u001b[0mdf\u001b[0m\u001b[0;34m.\u001b[0m\u001b[0mdrop\u001b[0m\u001b[0;34m(\u001b[0m\u001b[0;34m[\u001b[0m\u001b[0;34m'quality'\u001b[0m\u001b[0;34m,\u001b[0m \u001b[0;34m'is_best_wine'\u001b[0m\u001b[0;34m]\u001b[0m\u001b[0;34m,\u001b[0m \u001b[0maxis\u001b[0m\u001b[0;34m=\u001b[0m\u001b[0;36m1\u001b[0m\u001b[0;34m)\u001b[0m\u001b[0;34m\u001b[0m\u001b[0;34m\u001b[0m\u001b[0m\n",
            "\u001b[0;32m/usr/local/lib/python3.10/dist-packages/pandas/core/frame.py\u001b[0m in \u001b[0;36m__getitem__\u001b[0;34m(self, key)\u001b[0m\n\u001b[1;32m   4100\u001b[0m             \u001b[0;32mif\u001b[0m \u001b[0mself\u001b[0m\u001b[0;34m.\u001b[0m\u001b[0mcolumns\u001b[0m\u001b[0;34m.\u001b[0m\u001b[0mnlevels\u001b[0m \u001b[0;34m>\u001b[0m \u001b[0;36m1\u001b[0m\u001b[0;34m:\u001b[0m\u001b[0;34m\u001b[0m\u001b[0;34m\u001b[0m\u001b[0m\n\u001b[1;32m   4101\u001b[0m                 \u001b[0;32mreturn\u001b[0m \u001b[0mself\u001b[0m\u001b[0;34m.\u001b[0m\u001b[0m_getitem_multilevel\u001b[0m\u001b[0;34m(\u001b[0m\u001b[0mkey\u001b[0m\u001b[0;34m)\u001b[0m\u001b[0;34m\u001b[0m\u001b[0;34m\u001b[0m\u001b[0m\n\u001b[0;32m-> 4102\u001b[0;31m             \u001b[0mindexer\u001b[0m \u001b[0;34m=\u001b[0m \u001b[0mself\u001b[0m\u001b[0;34m.\u001b[0m\u001b[0mcolumns\u001b[0m\u001b[0;34m.\u001b[0m\u001b[0mget_loc\u001b[0m\u001b[0;34m(\u001b[0m\u001b[0mkey\u001b[0m\u001b[0;34m)\u001b[0m\u001b[0;34m\u001b[0m\u001b[0;34m\u001b[0m\u001b[0m\n\u001b[0m\u001b[1;32m   4103\u001b[0m             \u001b[0;32mif\u001b[0m \u001b[0mis_integer\u001b[0m\u001b[0;34m(\u001b[0m\u001b[0mindexer\u001b[0m\u001b[0;34m)\u001b[0m\u001b[0;34m:\u001b[0m\u001b[0;34m\u001b[0m\u001b[0;34m\u001b[0m\u001b[0m\n\u001b[1;32m   4104\u001b[0m                 \u001b[0mindexer\u001b[0m \u001b[0;34m=\u001b[0m \u001b[0;34m[\u001b[0m\u001b[0mindexer\u001b[0m\u001b[0;34m]\u001b[0m\u001b[0;34m\u001b[0m\u001b[0;34m\u001b[0m\u001b[0m\n",
            "\u001b[0;32m/usr/local/lib/python3.10/dist-packages/pandas/core/indexes/base.py\u001b[0m in \u001b[0;36mget_loc\u001b[0;34m(self, key)\u001b[0m\n\u001b[1;32m   3810\u001b[0m             ):\n\u001b[1;32m   3811\u001b[0m                 \u001b[0;32mraise\u001b[0m \u001b[0mInvalidIndexError\u001b[0m\u001b[0;34m(\u001b[0m\u001b[0mkey\u001b[0m\u001b[0;34m)\u001b[0m\u001b[0;34m\u001b[0m\u001b[0;34m\u001b[0m\u001b[0m\n\u001b[0;32m-> 3812\u001b[0;31m             \u001b[0;32mraise\u001b[0m \u001b[0mKeyError\u001b[0m\u001b[0;34m(\u001b[0m\u001b[0mkey\u001b[0m\u001b[0;34m)\u001b[0m \u001b[0;32mfrom\u001b[0m \u001b[0merr\u001b[0m\u001b[0;34m\u001b[0m\u001b[0;34m\u001b[0m\u001b[0m\n\u001b[0m\u001b[1;32m   3813\u001b[0m         \u001b[0;32mexcept\u001b[0m \u001b[0mTypeError\u001b[0m\u001b[0;34m:\u001b[0m\u001b[0;34m\u001b[0m\u001b[0;34m\u001b[0m\u001b[0m\n\u001b[1;32m   3814\u001b[0m             \u001b[0;31m# If we have a listlike key, _check_indexing_error will raise\u001b[0m\u001b[0;34m\u001b[0m\u001b[0;34m\u001b[0m\u001b[0m\n",
            "\u001b[0;31mKeyError\u001b[0m: 'quality'"
          ]
        }
      ]
    },
    {
      "cell_type": "code",
      "source": [
        "# Создаем копию данных\n",
        "category_columns: list[str] = X.select_dtypes(include=['category']).columns # собираем колонки помеченные как category\n",
        "\n",
        "# Применяем One-Hot Encoding\n",
        "X = pd.get_dummies(X, columns=category_columns,drop_first=True) # drop_first=True позволяет избежать мультиколлинеарности, удаляя первый уровень категориальной переменной.\n"
      ],
      "metadata": {
        "id": "iqEGh4gatpWF"
      },
      "execution_count": null,
      "outputs": []
    },
    {
      "cell_type": "markdown",
      "source": [],
      "metadata": {
        "id": "i5SVOA9btKge"
      }
    },
    {
      "cell_type": "code",
      "source": [
        "X"
      ],
      "metadata": {
        "id": "UFgXVxRctA_4"
      },
      "execution_count": null,
      "outputs": []
    },
    {
      "cell_type": "markdown",
      "source": [
        "## 3.1 Алгоритм дерева принятия решений"
      ],
      "metadata": {
        "id": "miRcT-SotzJo"
      }
    },
    {
      "cell_type": "markdown",
      "source": [
        "Алгоритм дерева принятия решений (Decision Tree) — это один из методов машинного обучения, который используется для решения задач классификации и регрессии. Дерево решений представляет собой структуру, в которой каждый внутренний узел соответствует некоторому признаку, а каждая ветвь — определенному значению этого признака. Листовые узлы представляют собой классы или значения, которые необходимо предсказать.\n",
        "\n",
        "### Как работает дерево решений:\n",
        "\n",
        "1. **Корневой узел**: Это первый узел в дереве, который соответствует самому информативному признаку. Признак выбирается на основе критериев, например по индексу Gini (различие по y, чем ближе к 1, тем разнороднее классы y в узле)\n",
        "\n",
        "2. **Разбиение данных**: На каждом шаге дерево разбивает данные на подмножества в соответствии с выбранным признаком. Эти разбиения происходят рекурсивно, пока не будет достигнут некоторый критерий остановки (например, максимальная глубина дерева, минимальное количество данных в листе).\n",
        "\n",
        "3. **Листовые узлы**: Листовые узлы содержат финальные предсказания. В случае задачи классификации это будет класс, а в случае регрессии — числовое значение.\n",
        "\n",
        "4. **Критерии остановки**: Дерево останавливает разбиение, если достигается один из критериев остановки — например, если достигнута максимальная глубина дерева или в узле осталось меньше минимального числа данных для разбиения.\n",
        "\n",
        "### Преимущества:\n",
        "- Простота визуализации и интерпретации.\n",
        "- Может использоваться как для классификации, так и для регрессии.\n",
        "- Не требует предварительной нормализации данных.\n",
        "\n",
        "### Недостатки:\n",
        "- Может переобучаться (overfitting), если не ограничить глубину дерева.\n",
        "- Чувствительно к небольшим изменениям в данных."
      ],
      "metadata": {
        "id": "7DV9o__suMDJ"
      }
    },
    {
      "cell_type": "code",
      "source": [
        "from sklearn.tree import DecisionTreeClassifier\n",
        "# Разделяем данные\n",
        "X_train_multi, X_test_multi, y_train_multi, y_test_multi = train_test_split(X, y, test_size=0.3, random_state=42)\n",
        "\n",
        "# Обучаем модель\n",
        "tree_model = DecisionTreeClassifier(random_state=42, max_depth=10)\n",
        "tree_model.fit(X_train_multi, y_train_multi)\n",
        "\n",
        "# Предсказания\n",
        "y_pred_multi = tree_model.predict(X_test_multi)"
      ],
      "metadata": {
        "id": "pFeNDLPwtAoX"
      },
      "execution_count": null,
      "outputs": []
    },
    {
      "cell_type": "code",
      "source": [
        "from sklearn.metrics import classification_report\n",
        "\n",
        "print(\"\\nClassification Report:\\n\", classification_report(y_test_multi, y_pred_multi))\n"
      ],
      "metadata": {
        "id": "FTr90FRas29b"
      },
      "execution_count": null,
      "outputs": []
    },
    {
      "cell_type": "markdown",
      "source": [
        "Про *macro avg* и *weighted avg*.:\n",
        "\n",
        "1. **Macro average (macro avg)**:\n",
        "   - Этот показатель вычисляется как среднее арифметическое по каждому классу для всех метрик (precision, recall и f1-score). То есть сначала вычисляются precision, recall и f1-score для каждого класса, а затем они усредняются без учёта того, сколько примеров было в каждом классе. Этот показатель полезен, когда интересует равное внимание к каждому классу, независимо от его частоты в данных.\n",
        "   - *Проблема*: Если классы несбалансированы (т.е. некоторые классы имеют намного больше примеров, чем другие), то этот показатель может быть искажен в сторону меньших классов.\n",
        "\n",
        "2. **Weighted average (weighted avg)**:\n",
        "   - Этот показатель тоже вычисляется на основе метрик каждого класса (precision, recall и f1-score), но с учетом количества примеров (support) в каждом классе. То есть каждый класс вносит свой вклад в среднее значение пропорционально его количеству примеров в данных.\n",
        "   - *Преимущество*: В отличие от macro avg, weighted avg корректнее отражает общую производительность модели на несбалансированных данных, так как учитывает частоту каждого класса.\n",
        "\n",
        "Проще говоря:\n",
        "- **Macro avg** показывает усреднённое качество модели по всем классам, не обращая внимания на то, сколько примеров в каждом классе.\n",
        "- **Weighted avg** взвешивает качество по количеству примеров каждого класса, что делает его более устойчивым к несбалансированным классам."
      ],
      "metadata": {
        "id": "Se9MocAWvmwf"
      }
    },
    {
      "cell_type": "markdown",
      "source": [],
      "metadata": {
        "id": "fwq2iDdUvYdZ"
      }
    },
    {
      "cell_type": "code",
      "source": [
        "accuracy_score(y_test_multi, y_pred_multi)\n"
      ],
      "metadata": {
        "id": "Rf-tLDeSu8Hi"
      },
      "execution_count": null,
      "outputs": []
    },
    {
      "cell_type": "code",
      "source": [
        "from sklearn.metrics import balanced_accuracy_score\n",
        "balanced_accuracy_score(y_test_multi, y_pred_multi) # ну такое\n"
      ],
      "metadata": {
        "id": "LpDY-g6WwCRm"
      },
      "execution_count": null,
      "outputs": []
    },
    {
      "cell_type": "markdown",
      "source": [
        "### Важность признаков\n",
        "\n",
        "Признаки, которые внесли наибольший вклад в модель"
      ],
      "metadata": {
        "id": "AEzKx0UCwveI"
      }
    },
    {
      "cell_type": "code",
      "source": [
        "import matplotlib.pyplot as plt\n",
        "\n",
        "feature_importances = pd.Series(tree_model.feature_importances_, index=X.columns)\n",
        "feature_importances.sort_values().plot(kind='barh')\n",
        "plt.title('Важность признаков в дереве решений')\n",
        "plt.show()\n"
      ],
      "metadata": {
        "id": "8Cl3WKnZtwT1"
      },
      "execution_count": null,
      "outputs": []
    },
    {
      "cell_type": "markdown",
      "source": [],
      "metadata": {
        "id": "9Oivp7OwyhrZ"
      }
    },
    {
      "cell_type": "code",
      "source": [
        "from sklearn.tree import plot_tree\n",
        "# Визуализируем дерево решений\n",
        "plt.figure(figsize=(80, 60))\n",
        "plot_tree(tree_model, feature_names=X.columns, class_names=[str(item) for item in sorted(y.unique())], filled=True, rounded=True)\n",
        "plt.show()\n"
      ],
      "metadata": {
        "id": "HS4pYEd0yha4"
      },
      "execution_count": null,
      "outputs": []
    }
  ]
}